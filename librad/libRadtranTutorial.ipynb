{
 "metadata": {
  "name": "",
  "signature": "sha256:1ba4d093327863120aa44369cc6b2cc51629b4b60ef0b27c29dfa80b4dd074f3"
 },
 "nbformat": 3,
 "nbformat_minor": 0,
 "worksheets": [
  {
   "cells": [
    {
     "cell_type": "code",
     "collapsed": false,
     "input": [
      "\n",
      "%load_ext autoreload\n",
      "%autoreload 1\n",
      "%aimport librad\n",
      "import librad"
     ],
     "language": "python",
     "metadata": {},
     "outputs": [
      {
       "output_type": "stream",
       "stream": "stdout",
       "text": [
        "The autoreload extension is already loaded. To reload it, use:\n",
        "  %reload_ext autoreload\n"
       ]
      }
     ],
     "prompt_number": 5
    },
    {
     "cell_type": "code",
     "collapsed": false,
     "input": [
      "a=librad.Case('UVSPEC_AEROSOL.INP')"
     ],
     "language": "python",
     "metadata": {},
     "outputs": [],
     "prompt_number": 7
    },
    {
     "cell_type": "code",
     "collapsed": false,
     "input": [
      "a.data"
     ],
     "language": "python",
     "metadata": {},
     "outputs": [
      {
       "metadata": {},
       "output_type": "pyout",
       "prompt_number": 10,
       "text": [
        "[['aerosol_vulcan', '1'],\n",
        " ['aerosol_haze', '6'],\n",
        " ['aerosol_season', '1'],\n",
        " ['aerosol_visibility', '20.0'],\n",
        " ['aerosol_angstrom', '1.1', '0.2'],\n",
        " ['aerosol_modify', 'ssa', 'scale', '0.85'],\n",
        " ['aerosol_modify', 'gg', 'set', '0.70'],\n",
        " ['aerosol_file', 'tau', '../examples/AERO_TAU.DAT'],\n",
        " ['atmosphere_file', '../data/atmmod/afglus.dat'],\n",
        " ['source', 'solar', '../data/solar_flux/atlas_plus_modtran'],\n",
        " ['mol_modify', 'O3', '300.', 'DU'],\n",
        " ['day_of_year', '170'],\n",
        " ['albedo', '0.2'],\n",
        " ['sza', '32.0'],\n",
        " ['rte_solver', 'disort'],\n",
        " ['number_of_streams', '6'],\n",
        " ['wavelength', '299.0', '341.0'],\n",
        " ['slit_function_file', '../examples/TRI_SLIT.DAT'],\n",
        " ['spline', '300', '340', '1'],\n",
        " ['quiet']]"
       ]
      }
     ],
     "prompt_number": 10
    },
    {
     "cell_type": "code",
     "collapsed": false,
     "input": [
      "a.line_nos"
     ],
     "language": "python",
     "metadata": {},
     "outputs": [
      {
       "metadata": {},
       "output_type": "pyout",
       "prompt_number": 11,
       "text": [
        "[('UVSPEC_AEROSOL.INP', 3),\n",
        " ('UVSPEC_AEROSOL.INP', 4),\n",
        " ('UVSPEC_AEROSOL.INP', 5),\n",
        " ('UVSPEC_AEROSOL.INP', 6),\n",
        " ('UVSPEC_AEROSOL.INP', 7),\n",
        " ('UVSPEC_AEROSOL.INP', 10),\n",
        " ('UVSPEC_AEROSOL.INP', 12),\n",
        " ('UVSPEC_AEROSOL.INP', 13),\n",
        " ('UVSPEC_CLEAR.INP', 2),\n",
        " ('UVSPEC_CLEAR.INP', 4),\n",
        " ('UVSPEC_CLEAR.INP', 5),\n",
        " ('UVSPEC_CLEAR.INP', 6),\n",
        " ('UVSPEC_CLEAR.INP', 7),\n",
        " ('UVSPEC_CLEAR.INP', 8),\n",
        " ('UVSPEC_CLEAR.INP', 9),\n",
        " ('UVSPEC_CLEAR.INP', 10),\n",
        " ('UVSPEC_CLEAR.INP', 11),\n",
        " ('UVSPEC_CLEAR.INP', 12),\n",
        " ('UVSPEC_CLEAR.INP', 14),\n",
        " ('UVSPEC_CLEAR.INP', 16)]"
       ]
      }
     ],
     "prompt_number": 11
    },
    {
     "cell_type": "code",
     "collapsed": false,
     "input": [],
     "language": "python",
     "metadata": {},
     "outputs": []
    }
   ],
   "metadata": {}
  }
 ]
}